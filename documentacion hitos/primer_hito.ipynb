{
 "cells": [
  {
   "cell_type": "markdown",
   "id": "2f3dedef-fb90-4732-a3b3-b366d08f9a9f",
   "metadata": {},
   "source": [
    "<p align=\"left\">\n",
    "  <img src=\"images/Escudo_uaustralchile.png\" alt=\"Escudo UACh\" width=\"100\" height=\"auto\"/>\n",
    "</p>\n",
    "\n",
    "# Proyecto de ACUS 220: Desarrollo de bot de discord\n",
    "### Primer Hito de Entrega\n",
    "**Autor:** Rodrigo González"
   ]
  },
  {
   "cell_type": "markdown",
   "id": "208d11ba-3fbb-4840-9753-082ad5bb5d92",
   "metadata": {
    "jp-MarkdownHeadingCollapsed": true
   },
   "source": [
    "## Objetivo General\n",
    "\n",
    "- Desarrollo de un bot usando python, el cual podrá manipular audios de diferentes formas, tales como:\n",
    "\n",
    "    - Cambio de volumen, saturación, velocidad, etc.\n",
    "    - Creación de audios mediante TTS\n",
    "    - Efectos varios de sonido\n",
    "\n",
    "Busco proporcionar una herramienta a la mano para todos los usuarios de la plataforma, los cuales podrán evitar sitios web de dudosa calidad y confianza para poder editar sus audios.\n",
    "\n",
    "No se requiere un conocimiento de edición de audios para usar, pues busco crear comando simples y autoexplicativos. De todos modos, el bot tendrá un comando específico donde se indiquen las instrucciones."
   ]
  },
  {
   "cell_type": "markdown",
   "id": "7eee6f26-cfde-4192-9e90-bcbd0666b875",
   "metadata": {},
   "source": [
    "## Objetivos Específicos\n",
    "\n",
    "2. Durante el desarrollo, me plantee los siguientes objetivos:\n",
    "\n",
    "1) Estudiar las implementaciones del API de Discord y como crear un bot en su plataforma\n",
    "2) Consultar algunos otros bots cuyo código este disponible\n",
    "3) Investigar bibliotecas y módulos que tengan que ver con la manipulación de audios\n",
    "4) Crear los comandos específicos para el bot (como subir audios)"
   ]
  },
  {
   "cell_type": "markdown",
   "id": "48ca221c-6805-4596-94e9-070cd821c63e",
   "metadata": {},
   "source": [
    "## \tEstado del Arte\n",
    "\n",
    "- Existen diversos Bots de audio, sin embargo, la mayoría tienen que ver con la reproducción directa de música\n",
    "\n",
    "    * [Youtube bot](https://github.com/maxcutlyp/YoutubeBot)\n",
    "    \n",
    "Este en específico tiene implementaciones de la API de Youtube. Por el momento no estoy seguro si iré a usar youtube o no, pero me ayudó a entender más o menos como funciona la creación de un bot\n"
   ]
  },
  {
   "cell_type": "markdown",
   "id": "9190aae9-cc5c-4a89-9421-3270436a91ca",
   "metadata": {},
   "source": [
    "## \tMateriales y Métodos\n",
    "- [Discord.py](https://discordpy.readthedocs.io/en/stable/)\n",
    "- [Aiohttp](https://docs.aiohttp.org/en/stable/)\n",
    "- (aqui ire dejando segun vaya usandolas)\n"
   ]
  },
  {
   "cell_type": "markdown",
   "id": "70d5ae8c-bf2e-407b-9448-1e099fa3b4e1",
   "metadata": {},
   "source": [
    "## Referencias Bibliográficas:\n",
    "\n",
    "https://discordpy.readthedocs.io/en/stable/"
   ]
  },
  {
   "cell_type": "code",
   "execution_count": null,
   "id": "9d748307-ea44-4e51-a30e-cced014ca883",
   "metadata": {},
   "outputs": [],
   "source": []
  }
 ],
 "metadata": {
  "kernelspec": {
   "display_name": "proyecto_1",
   "language": "python",
   "name": "proyecto_1"
  },
  "language_info": {
   "codemirror_mode": {
    "name": "ipython",
    "version": 3
   },
   "file_extension": ".py",
   "mimetype": "text/x-python",
   "name": "python",
   "nbconvert_exporter": "python",
   "pygments_lexer": "ipython3",
   "version": "3.11.13"
  }
 },
 "nbformat": 4,
 "nbformat_minor": 5
}
